{
 "cells": [
  {
   "cell_type": "code",
   "execution_count": 14,
   "metadata": {},
   "outputs": [],
   "source": [
    "import pandas as pd\n",
    "import numpy as np"
   ]
  },
  {
   "cell_type": "code",
   "execution_count": 15,
   "metadata": {},
   "outputs": [],
   "source": [
    "target = pd.read_csv(\"Datasets/hourly_load_data_2013_to_2020.csv\")\n",
    "sample = pd.read_csv(\"Datasets/temperature_and_seasonal_data_20013_to_2020.csv\")\n"
   ]
  },
  {
   "cell_type": "code",
   "execution_count": 25,
   "metadata": {},
   "outputs": [
    {
     "name": "stdout",
     "output_type": "stream",
     "text": [
      "   year  month day wday      temp         HD   CD        HD_2  CD_2  \\\n",
      "0  2013      1  HD   Di -4.097832  22.397832  0.0  501.662880   0.0   \n",
      "1  2013      1  WD   Mi -3.919938  22.219938  0.0  493.725635   0.0   \n",
      "2  2013      1  WD   Do -1.456409  19.756409  0.0  390.315703   0.0   \n",
      "3  2013      1  WD   Fr -0.694651  18.994651  0.0  360.796777   0.0   \n",
      "4  2013      1  WE   Sa -1.376359  19.676359  0.0  387.159097   0.0   \n",
      "\n",
      "           HD_3 ...   okt  nov  we  ToD  mon  tue  wed  thu  fri  sat  \n",
      "0  11236.160937 ...     0    0   1    1    0    1    0    0    0    0  \n",
      "1  10970.552890 ...     0    0   0    0    0    0    1    0    0    0  \n",
      "2   7711.236732 ...     0    0   0    0    0    0    0    1    0    0  \n",
      "3   6853.208966 ...     0    0   0    0    0    0    0    0    1    0  \n",
      "4   7617.881321 ...     0    0   1    0    0    0    0    0    0    1  \n",
      "\n",
      "[5 rows x 36 columns]\n",
      "   year  month  day   load       date\n",
      "0  2013      1    1  20380 2013-01-01\n",
      "1  2013      1    1  21574 2013-01-01\n",
      "2  2013      1    1  20697 2013-01-01\n",
      "3  2013      1    1  19961 2013-01-01\n",
      "4  2013      1    1  19529 2013-01-01\n",
      "training sets shape:2920\n",
      "target sets shape:2920\n"
     ]
    }
   ],
   "source": [
    "# 将 year, month, day 列组合成一个新的日期列\n",
    "target['date'] = pd.to_datetime(target[['year', 'month', 'day']])\n",
    "\n",
    "# 使用新的日期列进行 groupby 操作\n",
    "grouped = target.groupby('date').agg({'load': 'sum'})\n",
    "\n",
    "flag = grouped[\"load\"]\n",
    "\n",
    "print(sample[:5])\n",
    "print(target[:5])\n",
    "\n",
    "sample_encoded = pd.get_dummies(sample, columns=['wday'])\n",
    "sample_encoded = pd.get_dummies(sample_encoded, columns=[\"day\"])\n",
    "\n",
    "def create_training_sets(df):\n",
    "    training_sets = []\n",
    "    for _, row in df.iterrows():\n",
    "        training_set = row.tolist()\n",
    "        training_sets.append(training_set)\n",
    "    return training_sets\n",
    "\n",
    "# 使用函数将每一行转换为训练集\n",
    "training_sets = create_training_sets(sample_encoded)\n",
    "np.save(\"sample.npy\",training_sets)\n",
    "np.save(\"target.npy\",flag)\n",
    "\n",
    "print(\"training sets shape:\"+ str(len(training_sets)))\n",
    "print(\"target sets shape:\"+ str(len(flag)))"
   ]
  },
  {
   "cell_type": "code",
   "execution_count": null,
   "metadata": {},
   "outputs": [],
   "source": []
  }
 ],
 "metadata": {
  "kernelspec": {
   "display_name": "AIWS",
   "language": "python",
   "name": "aiws"
  },
  "language_info": {
   "codemirror_mode": {
    "name": "ipython",
    "version": 3
   },
   "file_extension": ".py",
   "mimetype": "text/x-python",
   "name": "python",
   "nbconvert_exporter": "python",
   "pygments_lexer": "ipython3",
   "version": "3.7.0"
  }
 },
 "nbformat": 4,
 "nbformat_minor": 2
}
